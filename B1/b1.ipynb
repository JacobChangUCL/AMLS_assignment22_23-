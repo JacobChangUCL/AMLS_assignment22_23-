{
 "cells": [
  {
   "cell_type": "code",
   "execution_count": 57,
   "metadata": {},
   "outputs": [],
   "source": [
    "import torch\n",
    "import torch.nn as nn\n",
    "import torch.optim as optim\n",
    "import torch.nn.functional as function\n",
    "from torchvision import datasets,transforms\n",
    "import matplotlib.pyplot as plt\n",
    "import numpy as np\n",
    "import os\n",
    "from PIL import Image\n",
    "from torch.utils.data import Dataset, DataLoader\n",
    "import pandas as pd\n",
    "if torch.cuda.is_available()==False:\n",
    "    raise ImportError\n",
    "from tookit import precision #this programe is used to strore commonly used functions"
   ]
  },
  {
   "cell_type": "code",
   "execution_count": 58,
   "metadata": {},
   "outputs": [],
   "source": [
    "picture_width=500\n",
    "picture_height=500 #the width and height of picture in cartoon\n",
    "classesNum=5 #male or female\n",
    "epochs=2 #how much epoch I need to run\n",
    "batch_size0 =10 #I want to train it with minibatch.\n",
    "#there are 5000 images in celeba dataset\n",
    "img_path=os.getcwd()[:-2]+\"Datasets\\\\cartoon_set\" #[:-2]for deleting \"B1\"\n",
    "\n",
    "feature_size=2\n",
    "#I will double the feature_size after every pooling layer.so if you set feature_size to a very big number,\n",
    "#It will become very slow"
   ]
  },
  {
   "cell_type": "code",
   "execution_count": 59,
   "metadata": {},
   "outputs": [],
   "source": [
    "def label_loader(gloabel_path:str,label_index:int):\n",
    "    \"\"\" this class is for loading the label of picture.The label of picture is not well formated  \n",
    "    \"\"\"\n",
    "    new_label_path=gloabel_path+'\\\\labels.csv'\n",
    "    labels_original=pd.read_csv(new_label_path)  \n",
    "    labelsNew=[]\n",
    "    for row in labels_original.iterrows():\n",
    "    #self.labels is a Dataframe,we can only use .iterrows()method to iter a dataframe\n",
    "        splitedLabel=str(row).split('\\\\t')\n",
    "        #print(splitedLabel)\n",
    "        #break    when you want to find the label_index,run theis part\n",
    "        labelsNew.append(int(splitedLabel[label_index]))\n",
    "    return labelsNew"
   ]
  },
  {
   "cell_type": "code",
   "execution_count": 60,
   "metadata": {},
   "outputs": [],
   "source": [
    "#this class is for loading data.\n",
    "class DatasetCreater(Dataset):\n",
    "    def __init__(self,path:str,start_item:int,data_size:int,data_format:str,transformer:object,labels):\n",
    "        #transformer is an object created by torchvision.transforms.Compose()to transform an picture from PIL object to tensor\n",
    "        super().__init__()\n",
    "        self.path=path\n",
    "        self.start_item=start_item\n",
    "        self.data_size=data_size\n",
    "        self.transformer=transformer\n",
    "        self.data_format=data_format\n",
    "        \n",
    "        #labels.Labels is small so I want to load every labes in the initial process\n",
    "        #pictures are big so I want to load it when I need to use it\n",
    "        self.labels=labels\n",
    "        \n",
    "    def __len__(self):\n",
    "        return self.data_size\n",
    "    #哈哈，枚举类型和for循环也不知道可迭代对象有几个元素。他们就是通过__len__()函数找要迭代多少次的。如果__len__函数大于\n",
    "    #真实可迭代次数，就会报错\n",
    "    \n",
    "    def __getitem__(self, item):\n",
    "        #the path of one data\n",
    "        OneDataPath=self.path+\"\\\\img\\\\\"+str(item+self.start_item)+\".\"+self.data_format\n",
    "        image=Image.open(OneDataPath).convert('RGB')\n",
    "        imageTensor=self.transformer(image)\n",
    "\n",
    "        label=self.labels[item+self.start_item]\n",
    "        return imageTensor,label\n",
    "\n",
    "transformer_train = transforms.Compose(\n",
    "    [\n",
    "    transforms.RandomHorizontalFlip(p=0.1),#随机水平翻转 选择一个概率概率 randon horizontal Flip\n",
    "    transforms.ToTensor(),\n",
    "    transforms.Normalize([0.5, 0.5, 0.5], [0.5, 0.5, 0.5])         \n",
    "])\n",
    "\n",
    "transformer_test = transforms.Compose(\n",
    "    [\n",
    "    transforms.ToTensor(),\n",
    "    transforms.Normalize([0.5, 0.5, 0.5], [0.5, 0.5, 0.5])         \n",
    "])\n",
    "\n",
    "\n",
    "labels= label_loader(img_path,5)\n",
    "\n",
    "train_data=DatasetCreater(img_path,0,8000,\"png\",transformer_train,labels)\n",
    "train_loader =DataLoader(\n",
    "\tdataset=train_data,\n",
    "    batch_size=batch_size0,\n",
    "    shuffle=True\n",
    "\t)\n",
    "test_data=DatasetCreater(img_path,8000,2000,\"png\",transformer_test,labels)\n",
    "\n",
    "test_loader =DataLoader(\n",
    "\tdataset=test_data,\n",
    "    batch_size=batch_size0,\n",
    "    shuffle=True\n",
    "\t)"
   ]
  },
  {
   "cell_type": "code",
   "execution_count": 61,
   "metadata": {},
   "outputs": [],
   "source": [
    "#now ,I want to creat a neural network\n",
    "class ConvolutionalNN(nn.Module):\n",
    "    def __init__(self) -> None:\n",
    "        super().__init__()\n",
    "        self.convModule=nn.Sequential(\n",
    "            nn.Conv2d(\n",
    "                in_channels=3,\n",
    "                out_channels=feature_size,\n",
    "                kernel_size=3,\n",
    "                stride=1,\n",
    "                padding=1\n",
    "            ),\n",
    "            nn.BatchNorm2d(feature_size),\n",
    "            nn.ReLU(),\n",
    "             nn.Conv2d(\n",
    "                in_channels=feature_size,\n",
    "                out_channels=feature_size,\n",
    "                kernel_size=3,\n",
    "                stride=1,\n",
    "                padding=1\n",
    "            ),\n",
    "            nn.BatchNorm2d(feature_size),\n",
    "            nn.ReLU(),\n",
    "            nn.MaxPool2d(kernel_size=2)\n",
    "        )\n",
    "        self.conv2=nn.Sequential(\n",
    "            nn.Conv2d(\n",
    "                in_channels=feature_size,\n",
    "                out_channels=2*feature_size,\n",
    "                kernel_size=3,\n",
    "                stride=1,\n",
    "                padding=1\n",
    "            ),\n",
    "            nn.BatchNorm2d(2*feature_size),\n",
    "            nn.ReLU(),\n",
    "            nn.Conv2d(\n",
    "                in_channels=2*feature_size,\n",
    "                out_channels=2*feature_size,\n",
    "                kernel_size=3,\n",
    "                stride=1,\n",
    "                padding=1\n",
    "            ),\n",
    "            nn.BatchNorm2d(2*feature_size),\n",
    "            nn.ReLU(),\n",
    "            nn.MaxPool2d(kernel_size=2)\n",
    "        )\n",
    "        self.outLayer=nn.Sequential(\n",
    "            nn.Linear(62500,1000),\n",
    "            nn.ReLU(),\n",
    "            nn.Linear(1000,classesNum)\n",
    "            )\n",
    "        #this number 28512 is not good,I don't know how the outLayer number should be set\n",
    "        #So If you change the input size of the picture,this neural net work will raise a \n",
    "        #error which is \"mat1 and mat2 shapes cannot be multiplied (10x aNnumber and 28512x2)\"\"\n",
    "        #then,you should change 28512 to \"aNumber\"in there\n",
    "    \n",
    "    def forward(self,input):\n",
    "        input1=self.convModule(input)\n",
    "        input2=self.conv2(input1)\n",
    "        #input3=self.conv3(input2)\n",
    "        \n",
    "        input4=input2.view(input2.size(0),-1)\n",
    "        output=self.outLayer(input4)\n",
    "        return output\n",
    "        #we want to reshape the fature map into a vector"
   ]
  },
  {
   "cell_type": "code",
   "execution_count": 62,
   "metadata": {},
   "outputs": [],
   "source": [
    "def parameter_selection(Ir):\n",
    "        neuroNet=ConvolutionalNN().cuda()\n",
    "        #next,I  define a loss function and an optimizer\n",
    "        lossFunction=nn.CrossEntropyLoss()\n",
    "        #Cross Entropy loss is linked to mutiple classification problems，one-hot label\n",
    "        optimizer = optim.Adam(neuroNet.parameters(), Ir)\n",
    "        #Adam and Nadam are the best\n",
    "        #later,I want to choose the best Ir by model selection\n",
    "        flag=0#flag for training times\n",
    "        test_rights=[]\n",
    "        training_batch_times=[]\n",
    "        for i in range(epochs):\n",
    "                for bach,label in train_loader: \n",
    "                        neuroNet.train()#set the test_loader_iter neural network to training model                        \n",
    "                        output = neuroNet(bach.cuda())\n",
    "                        loss = lossFunction(output,torch.tensor(label).cuda())\n",
    "\n",
    "                        flag+=1\n",
    "                        if flag%50==0:\n",
    "                                # neuroNet.eval()\n",
    "                                # print(\"training times=\",flag)dd\n",
    "                                torch.cuda.empty_cache()\n",
    "                                test_batchs_number=0\n",
    "                                sum_of_precision=0\n",
    "                                for i,j in test_loader:\n",
    "                                        sum_of_precision+=precision(neuroNet(i.cuda()).cpu(),j)\n",
    "                                        #sum_of_precision+=precision(neuroNet(i),j)\n",
    "                                        test_batchs_number+=1\n",
    "                                test_right=sum_of_precision/test_batchs_number\n",
    "                                print(test_right)\n",
    "                                test_rights.append(test_right)\n",
    "                                training_batch_times.append(flag)\n",
    "                                if flag>=300:\n",
    "                                        if test_right==max(test_rights) and test_right>0.92:\n",
    "                                                return neuroNet,test_rights,training_batch_times\n",
    "                        optimizer.zero_grad()#clean the grade \n",
    "                        loss.backward()\n",
    "                        \n",
    "                        optimizer.step()\n",
    "        return neuroNet,test_rights,training_batch_times"
   ]
  },
  {
   "cell_type": "code",
   "execution_count": 63,
   "metadata": {},
   "outputs": [
    {
     "name": "stderr",
     "output_type": "stream",
     "text": [
      "C:\\Users\\36161\\AppData\\Local\\Temp\\ipykernel_25472\\1283774448.py:16: UserWarning: To copy construct from a tensor, it is recommended to use sourceTensor.clone().detach() or sourceTensor.clone().detach().requires_grad_(True), rather than torch.tensor(sourceTensor).\n",
      "  loss = lossFunction(output,torch.tensor(label).cuda())\n"
     ]
    },
    {
     "name": "stdout",
     "output_type": "stream",
     "text": [
      "0.8350000000000005\n",
      "0.9690000000000009\n",
      "0.9700000000000009\n",
      "0.9775000000000007\n",
      "0.9870000000000003\n",
      "0.9870000000000004\n"
     ]
    }
   ],
   "source": [
    "#now,we want to select the best Ir and other parameters for our module\n",
    "# for Ir in [0.001,0.0012,0.0014,0.0016]:\n",
    "neuroNet,test_rights,training_batch_times=parameter_selection(0.001)\n",
    "#torch.save(neuroNet.state_dict(), \"./model_parameter.pkl\")\n",
    "\n",
    "# trained_model=ConvolutionalNN()\n",
    "# trained_model.load_state_dict(torch.load(\"./model_parameter.pkl\"))\n",
    "# test_batchs_number=0\n",
    "# sum_of_precision=0\n",
    "# for i,j in test_loader:\n",
    "#         sum_of_precision+=precision(trained_model(i),j)\n",
    "#         test_batchs_number+=1\n",
    "#         test_right=sum_of_precision/test_batchs_number\n",
    "# print(test_right)\n"
   ]
  },
  {
   "cell_type": "code",
   "execution_count": 65,
   "metadata": {},
   "outputs": [
    {
     "data": {
      "image/png": "[encoded data removed]",
      "text/plain": [
       "<Figure size 640x480 with 1 Axes>"
      ]
     },
     "metadata": {},
     "output_type": "display_data"
    }
   ],
   "source": [
    "plt.plot(training_batch_times,test_rights)\n",
    "plt.show()"
   ]
  },
  {
   "cell_type": "code",
   "execution_count": 66,
   "metadata": {},
   "outputs": [],
   "source": [
    "torch.save(neuroNet.state_dict(), \"./model_parameter.pkl\")"
   ]
  }
 ],
 "metadata": {
  "kernelspec": {
   "display_name": "MLAssignment",
   "language": "python",
   "name": "python3"
  },
  "language_info": {
   "codemirror_mode": {
    "name": "ipython",
    "version": 3
   },
   "file_extension": ".py",
   "mimetype": "text/x-python",
   "name": "python",
   "nbconvert_exporter": "python",
   "pygments_lexer": "ipython3",
   "version": "3.8.15"
  },
  "orig_nbformat": 4,
  "vscode": {
   "interpreter": {
    "hash": "12ff0241aab6d68d89df65f05969083ec5b85532f876719a35cf7715ba95e61a"
   }
  }
 },
 "nbformat": 4,
 "nbformat_minor": 2
}
